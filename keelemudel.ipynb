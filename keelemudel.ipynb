{
  "nbformat": 4,
  "nbformat_minor": 0,
  "metadata": {
    "colab": {
      "provenance": []
    },
    "kernelspec": {
      "name": "python3",
      "display_name": "Python 3"
    },
    "language_info": {
      "name": "python"
    }
  },
  "cells": [
    {
      "cell_type": "code",
      "execution_count": null,
      "metadata": {
        "id": "dAPBzACr_tNN"
      },
      "outputs": [],
      "source": [
        "!pip install groq\n",
        "import os\n",
        "from google.colab import drive\n",
        "from groq import Groq\n",
        "from time import sleep\n",
        "\n",
        "drive.mount('/content/drive')\n",
        "\n",
        "API_KEY = \"siia läheb api võti\""
      ]
    },
    {
      "cell_type": "code",
      "source": [
        "def read_file_into_memory(filepath):\n",
        "  try:\n",
        "    with open(filepath, 'r') as file:\n",
        "      content = file.read()\n",
        "      #content = content.replace('\\n', '')\n",
        "      return content\n",
        "  except FileNotFoundError:\n",
        "    print(f\"Error: File '{filepath}' not found.\")\n",
        "    return None\n"
      ],
      "metadata": {
        "id": "CPedOuQ84LRv"
      },
      "execution_count": null,
      "outputs": []
    },
    {
      "cell_type": "code",
      "source": [
        "def tekita_treening_andmestik():\n",
        "  artiklid = []\n",
        "  kokkuvotted = []\n",
        "  for kaust in [\"uudised\", \"arvamused\"]:\n",
        "    for i in range(10):\n",
        "      artiklid.append(read_file_into_memory(f\"/content/drive/MyDrive/loputoo/arenduskorpus/{kaust}/{kaust[:-2]}{i+1}/{kaust[:-2]}{i+1}_alg.txt\"))\n",
        "      kokkuvotted.append(read_file_into_memory(f\"/content/drive/MyDrive/loputoo/arenduskorpus/{kaust}/{kaust[:-2]}{i+1}/{kaust[:-2]}{i+1}.txt\"))\n",
        "  return artiklid, kokkuvotted\n",
        "\n",
        "artiklid, kokkuvote = tekita_treening_andmestik()"
      ],
      "metadata": {
        "id": "MWvJRRN84Wa0"
      },
      "execution_count": null,
      "outputs": []
    },
    {
      "cell_type": "code",
      "source": [
        "def tekita_viipa_ajalugu():\n",
        "  ajalugu = [{\"role\": \"system\",\n",
        "    \"content\": \"Sa oled sisukokkuvõtja\",}]\n",
        "  for i in range(20):\n",
        "    ajalugu.append({\"role\": \"user\",\n",
        "    \"content\": artiklid[i]})\n",
        "    ajalugu.append({\"role\": \"assistant\",\n",
        "    \"content\": kokkuvote[i]})\n",
        "  return ajalugu\n",
        "\n",
        "message_history = tekita_viipa_ajalugu()"
      ],
      "metadata": {
        "id": "aWytfyqm57_n"
      },
      "execution_count": null,
      "outputs": []
    },
    {
      "cell_type": "code",
      "source": [
        "client = Groq(\n",
        "    api_key=API_KEY,\n",
        ")"
      ],
      "metadata": {
        "id": "GHIdzX0IUOLl"
      },
      "execution_count": null,
      "outputs": []
    },
    {
      "cell_type": "code",
      "source": [
        "for i in range(1, 5):\n",
        "  trucnated_history = message_history[:7]\n",
        "  trucnated_history.append(\n",
        "      {\n",
        "          \"role\": \"user\",\n",
        "          \"content\": read_file_into_memory(f\"/content/drive/MyDrive/loputoo/testkorpus/uudised/uudis{i}/uudis{i}_alg.txt\")\n",
        "      }\n",
        "  )\n",
        "\n",
        "  chat_completion = client.chat.completions.create(\n",
        "        messages=trucnated_history,\n",
        "        model=\"llama-3.3-70b-versatile\",\n",
        "    )\n",
        "\n",
        "\n",
        "  with open(f\"/content/drive/MyDrive/loputoo/testkorpus/uudis{i}-llm.txt\", \"w\") as file:\n",
        "    file.write(chat_completion.choices[0].message.content)\n",
        "  print(i)\n",
        "  sleep(60)\n"
      ],
      "metadata": {
        "id": "Yju9ujWQsJHF"
      },
      "execution_count": null,
      "outputs": []
    }
  ]
}